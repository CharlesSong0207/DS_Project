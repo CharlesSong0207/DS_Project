{
 "cells": [
  {
   "cell_type": "markdown",
   "metadata": {},
   "source": [
    "# Example Notebook\n",
    "\n",
    "This notebook is designed demonstrate a number of goals:\n",
    "\n",
    "  - The notebook is part of the automated analytical pipeline, as it is run programmatically by the build system, as in the dodo.py file.\n",
    "  - It is tracked by version control via Git. To avoid large files and the problems associated with non-text files, the notebook is stripped of its output. \n",
    "  - In order to avoid re-running the notebook every time it changes (it changes often, even by the act of opening it) and to only rerun it if meaningful changes have been made, the build system only looks for changes in the plaintext version of the notebook. That is, the notebook is converted to a Python script via [nbconvert](https://nbconvert.readthedocs.io/en/latest/), which is often packaged with Jupyter.\n",
    "  Then, DoIt looks for changes to the Python version. If it detects a difference, then the notebook is re-run. (Note, that you could also convert to a Markdown file with \n",
    "  [JupyText](https://github.com/mwouts/jupytext). However, this package is often not packaged with Jupyter.)\n",
    "  - Since we want to use Jupyter Notebooks for exploratory reports, we want to keep fully-computed versions of the notebook (with the output intact). However, earlier I said that I strip the notebook of its output before committing to version control. Well, to keep the output, every time PyDoit runs the notebook, it outputs an HTML version of the freshly run notebook and saves that HTML report in the `output` directory. That way, you will be able to view the finished report at any time without having to open Jupyter."
   ]
  },
  {
   "cell_type": "code",
   "execution_count": 1,
   "metadata": {},
   "outputs": [],
   "source": [
    "import config\n",
    "from pathlib import Path\n",
    "OUTPUT_DIR = Path(config.OUTPUT_DIR)"
   ]
  },
  {
   "cell_type": "code",
   "execution_count": 2,
   "metadata": {},
   "outputs": [],
   "source": [
    "import pandas as pd\n",
    "import numpy as np\n",
    "from matplotlib import pyplot as plt"
   ]
  },
  {
   "cell_type": "markdown",
   "metadata": {},
   "source": [
    "# Fama-French Market Monthly/Annual Return"
   ]
  },
  {
   "cell_type": "code",
   "execution_count": 3,
   "metadata": {},
   "outputs": [
    {
     "name": "stdout",
     "output_type": "stream",
     "text": [
      "WRDS recommends setting up a .pgpass file.\n",
      "Created .pgpass file successfully.\n",
      "You can create this file yourself at any time with the create_pgpass_file() function.\n",
      "Loading library list...\n",
      "Done\n"
     ]
    },
    {
     "data": {
      "text/html": [
       "<div>\n",
       "<style scoped>\n",
       "    .dataframe tbody tr th:only-of-type {\n",
       "        vertical-align: middle;\n",
       "    }\n",
       "\n",
       "    .dataframe tbody tr th {\n",
       "        vertical-align: top;\n",
       "    }\n",
       "\n",
       "    .dataframe thead th {\n",
       "        text-align: right;\n",
       "    }\n",
       "</style>\n",
       "<table border=\"1\" class=\"dataframe\">\n",
       "  <thead>\n",
       "    <tr style=\"text-align: right;\">\n",
       "      <th></th>\n",
       "      <th>date</th>\n",
       "      <th>mktrf</th>\n",
       "      <th>rf</th>\n",
       "    </tr>\n",
       "  </thead>\n",
       "  <tbody>\n",
       "    <tr>\n",
       "      <th>0</th>\n",
       "      <td>1988-01-04</td>\n",
       "      <td>0.0334</td>\n",
       "      <td>0.00015</td>\n",
       "    </tr>\n",
       "    <tr>\n",
       "      <th>1</th>\n",
       "      <td>1988-01-05</td>\n",
       "      <td>0.0122</td>\n",
       "      <td>0.00015</td>\n",
       "    </tr>\n",
       "    <tr>\n",
       "      <th>2</th>\n",
       "      <td>1988-01-06</td>\n",
       "      <td>0.0027</td>\n",
       "      <td>0.00015</td>\n",
       "    </tr>\n",
       "    <tr>\n",
       "      <th>3</th>\n",
       "      <td>1988-01-07</td>\n",
       "      <td>0.0074</td>\n",
       "      <td>0.00015</td>\n",
       "    </tr>\n",
       "    <tr>\n",
       "      <th>4</th>\n",
       "      <td>1988-01-08</td>\n",
       "      <td>-0.0566</td>\n",
       "      <td>0.00015</td>\n",
       "    </tr>\n",
       "    <tr>\n",
       "      <th>...</th>\n",
       "      <td>...</td>\n",
       "      <td>...</td>\n",
       "      <td>...</td>\n",
       "    </tr>\n",
       "    <tr>\n",
       "      <th>8059</th>\n",
       "      <td>2019-12-24</td>\n",
       "      <td>0.0001</td>\n",
       "      <td>0.00007</td>\n",
       "    </tr>\n",
       "    <tr>\n",
       "      <th>8060</th>\n",
       "      <td>2019-12-26</td>\n",
       "      <td>0.0048</td>\n",
       "      <td>0.00007</td>\n",
       "    </tr>\n",
       "    <tr>\n",
       "      <th>8061</th>\n",
       "      <td>2019-12-27</td>\n",
       "      <td>-0.0010</td>\n",
       "      <td>0.00007</td>\n",
       "    </tr>\n",
       "    <tr>\n",
       "      <th>8062</th>\n",
       "      <td>2019-12-30</td>\n",
       "      <td>-0.0057</td>\n",
       "      <td>0.00007</td>\n",
       "    </tr>\n",
       "    <tr>\n",
       "      <th>8063</th>\n",
       "      <td>2019-12-31</td>\n",
       "      <td>0.0028</td>\n",
       "      <td>0.00007</td>\n",
       "    </tr>\n",
       "  </tbody>\n",
       "</table>\n",
       "<p>8064 rows × 3 columns</p>\n",
       "</div>"
      ],
      "text/plain": [
       "           date   mktrf       rf\n",
       "0    1988-01-04  0.0334  0.00015\n",
       "1    1988-01-05  0.0122  0.00015\n",
       "2    1988-01-06  0.0027  0.00015\n",
       "3    1988-01-07  0.0074  0.00015\n",
       "4    1988-01-08 -0.0566  0.00015\n",
       "...         ...     ...      ...\n",
       "8059 2019-12-24  0.0001  0.00007\n",
       "8060 2019-12-26  0.0048  0.00007\n",
       "8061 2019-12-27 -0.0010  0.00007\n",
       "8062 2019-12-30 -0.0057  0.00007\n",
       "8063 2019-12-31  0.0028  0.00007\n",
       "\n",
       "[8064 rows x 3 columns]"
      ]
     },
     "execution_count": 3,
     "metadata": {},
     "output_type": "execute_result"
    }
   ],
   "source": [
    "import load_fama_french\n",
    "fama_french = load_fama_french.pull_CRSP_Fama_French_monthly()\n",
    "fama_french"
   ]
  },
  {
   "cell_type": "code",
   "execution_count": 4,
   "metadata": {},
   "outputs": [
    {
     "name": "stderr",
     "output_type": "stream",
     "text": [
      "/Users/a14542/Desktop/FINM32900/blank_project/src/load_fama_french.py:38: SettingWithCopyWarning: \n",
      "A value is trying to be set on a copy of a slice from a DataFrame.\n",
      "Try using .loc[row_indexer,col_indexer] = value instead\n",
      "\n",
      "See the caveats in the documentation: https://pandas.pydata.org/pandas-docs/stable/user_guide/indexing.html#returning-a-view-versus-a-copy\n",
      "  df['log_return'] = np.log1p(df['mkt'])\n"
     ]
    },
    {
     "data": {
      "text/html": [
       "<div>\n",
       "<style scoped>\n",
       "    .dataframe tbody tr th:only-of-type {\n",
       "        vertical-align: middle;\n",
       "    }\n",
       "\n",
       "    .dataframe tbody tr th {\n",
       "        vertical-align: top;\n",
       "    }\n",
       "\n",
       "    .dataframe thead th {\n",
       "        text-align: right;\n",
       "    }\n",
       "</style>\n",
       "<table border=\"1\" class=\"dataframe\">\n",
       "  <thead>\n",
       "    <tr style=\"text-align: right;\">\n",
       "      <th></th>\n",
       "      <th>date</th>\n",
       "      <th>mkt</th>\n",
       "      <th>log_return</th>\n",
       "    </tr>\n",
       "  </thead>\n",
       "  <tbody>\n",
       "    <tr>\n",
       "      <th>0</th>\n",
       "      <td>1988-01-04</td>\n",
       "      <td>0.03355</td>\n",
       "      <td>0.032999</td>\n",
       "    </tr>\n",
       "    <tr>\n",
       "      <th>1</th>\n",
       "      <td>1988-01-05</td>\n",
       "      <td>0.01235</td>\n",
       "      <td>0.012274</td>\n",
       "    </tr>\n",
       "    <tr>\n",
       "      <th>2</th>\n",
       "      <td>1988-01-06</td>\n",
       "      <td>0.00285</td>\n",
       "      <td>0.002846</td>\n",
       "    </tr>\n",
       "    <tr>\n",
       "      <th>3</th>\n",
       "      <td>1988-01-07</td>\n",
       "      <td>0.00755</td>\n",
       "      <td>0.007522</td>\n",
       "    </tr>\n",
       "    <tr>\n",
       "      <th>4</th>\n",
       "      <td>1988-01-08</td>\n",
       "      <td>-0.05645</td>\n",
       "      <td>-0.058106</td>\n",
       "    </tr>\n",
       "    <tr>\n",
       "      <th>...</th>\n",
       "      <td>...</td>\n",
       "      <td>...</td>\n",
       "      <td>...</td>\n",
       "    </tr>\n",
       "    <tr>\n",
       "      <th>8059</th>\n",
       "      <td>2019-12-24</td>\n",
       "      <td>0.00017</td>\n",
       "      <td>0.000170</td>\n",
       "    </tr>\n",
       "    <tr>\n",
       "      <th>8060</th>\n",
       "      <td>2019-12-26</td>\n",
       "      <td>0.00487</td>\n",
       "      <td>0.004858</td>\n",
       "    </tr>\n",
       "    <tr>\n",
       "      <th>8061</th>\n",
       "      <td>2019-12-27</td>\n",
       "      <td>-0.00093</td>\n",
       "      <td>-0.000930</td>\n",
       "    </tr>\n",
       "    <tr>\n",
       "      <th>8062</th>\n",
       "      <td>2019-12-30</td>\n",
       "      <td>-0.00563</td>\n",
       "      <td>-0.005646</td>\n",
       "    </tr>\n",
       "    <tr>\n",
       "      <th>8063</th>\n",
       "      <td>2019-12-31</td>\n",
       "      <td>0.00287</td>\n",
       "      <td>0.002866</td>\n",
       "    </tr>\n",
       "  </tbody>\n",
       "</table>\n",
       "<p>8064 rows × 3 columns</p>\n",
       "</div>"
      ],
      "text/plain": [
       "           date      mkt  log_return\n",
       "0    1988-01-04  0.03355    0.032999\n",
       "1    1988-01-05  0.01235    0.012274\n",
       "2    1988-01-06  0.00285    0.002846\n",
       "3    1988-01-07  0.00755    0.007522\n",
       "4    1988-01-08 -0.05645   -0.058106\n",
       "...         ...      ...         ...\n",
       "8059 2019-12-24  0.00017    0.000170\n",
       "8060 2019-12-26  0.00487    0.004858\n",
       "8061 2019-12-27 -0.00093   -0.000930\n",
       "8062 2019-12-30 -0.00563   -0.005646\n",
       "8063 2019-12-31  0.00287    0.002866\n",
       "\n",
       "[8064 rows x 3 columns]"
      ]
     },
     "execution_count": 4,
     "metadata": {},
     "output_type": "execute_result"
    }
   ],
   "source": [
    "df_mkt = load_fama_french.get_Fama_French_Mkt_Return(fama_french)\n",
    "df_mkt"
   ]
  },
  {
   "cell_type": "code",
   "execution_count": 5,
   "metadata": {},
   "outputs": [
    {
     "name": "stderr",
     "output_type": "stream",
     "text": [
      "/Users/a14542/Desktop/FINM32900/blank_project/src/load_fama_french.py:38: SettingWithCopyWarning: \n",
      "A value is trying to be set on a copy of a slice from a DataFrame.\n",
      "Try using .loc[row_indexer,col_indexer] = value instead\n",
      "\n",
      "See the caveats in the documentation: https://pandas.pydata.org/pandas-docs/stable/user_guide/indexing.html#returning-a-view-versus-a-copy\n",
      "  df['log_return'] = np.log1p(df['mkt'])\n",
      "/Users/a14542/Desktop/FINM32900/blank_project/src/load_fama_french.py:44: SettingWithCopyWarning: \n",
      "A value is trying to be set on a copy of a slice from a DataFrame.\n",
      "Try using .loc[row_indexer,col_indexer] = value instead\n",
      "\n",
      "See the caveats in the documentation: https://pandas.pydata.org/pandas-docs/stable/user_guide/indexing.html#returning-a-view-versus-a-copy\n",
      "  data['date'] = pd.to_datetime(data['date'])\n"
     ]
    },
    {
     "data": {
      "text/plain": [
       "<Axes: xlabel='date'>"
      ]
     },
     "execution_count": 5,
     "metadata": {},
     "output_type": "execute_result"
    },
    {
     "data": {
      "image/png": "[encoded data removed]",
      "text/plain": [
       "<Figure size 640x480 with 1 Axes>"
      ]
     },
     "metadata": {},
     "output_type": "display_data"
    }
   ],
   "source": [
    "df_mkt = load_fama_french.get_Fama_French_Mkt_Return(fama_french)\n",
    "mkt_month_ret = load_fama_french.calc_monthly_return(df_mkt)\n",
    "mkt_month_ret.plot()"
   ]
  },
  {
   "cell_type": "code",
   "execution_count": 6,
   "metadata": {},
   "outputs": [
    {
     "name": "stderr",
     "output_type": "stream",
     "text": [
      "/Users/a14542/Desktop/FINM32900/blank_project/src/load_fama_french.py:38: SettingWithCopyWarning: \n",
      "A value is trying to be set on a copy of a slice from a DataFrame.\n",
      "Try using .loc[row_indexer,col_indexer] = value instead\n",
      "\n",
      "See the caveats in the documentation: https://pandas.pydata.org/pandas-docs/stable/user_guide/indexing.html#returning-a-view-versus-a-copy\n",
      "  df['log_return'] = np.log1p(df['mkt'])\n"
     ]
    }
   ],
   "source": [
    "df_mkt = load_fama_french.get_Fama_French_Mkt_Return(fama_french)"
   ]
  },
  {
   "cell_type": "code",
   "execution_count": 16,
   "metadata": {},
   "outputs": [
    {
     "name": "stderr",
     "output_type": "stream",
     "text": [
      "/Users/a14542/Desktop/FINM32900/blank_project/src/load_fama_french.py:38: SettingWithCopyWarning: \n",
      "A value is trying to be set on a copy of a slice from a DataFrame.\n",
      "Try using .loc[row_indexer,col_indexer] = value instead\n",
      "\n",
      "See the caveats in the documentation: https://pandas.pydata.org/pandas-docs/stable/user_guide/indexing.html#returning-a-view-versus-a-copy\n",
      "  df['log_return'] = np.log1p(df['mkt'])\n",
      "/Users/a14542/Desktop/FINM32900/blank_project/src/load_fama_french.py:51: SettingWithCopyWarning: \n",
      "A value is trying to be set on a copy of a slice from a DataFrame.\n",
      "Try using .loc[row_indexer,col_indexer] = value instead\n",
      "\n",
      "See the caveats in the documentation: https://pandas.pydata.org/pandas-docs/stable/user_guide/indexing.html#returning-a-view-versus-a-copy\n",
      "  data['date'] = pd.to_datetime(data['date'])\n"
     ]
    },
    {
     "data": {
      "text/plain": [
       "<Axes: xlabel='date'>"
      ]
     },
     "execution_count": 16,
     "metadata": {},
     "output_type": "execute_result"
    },
    {
     "data": {
      "image/png": "[encoded data removed]",
      "text/plain": [
       "<Figure size 640x480 with 1 Axes>"
      ]
     },
     "metadata": {},
     "output_type": "display_data"
    }
   ],
   "source": [
    "df_mkt = load_fama_french.get_Fama_French_Mkt_Return(fama_french)\n",
    "\n",
    "mkt_annual_ret = load_fama_french.calc_annual_return(df_mkt)\n",
    "mkt_annual_ret.plot()"
   ]
  },
  {
   "cell_type": "code",
   "execution_count": 13,
   "metadata": {},
   "outputs": [
    {
     "data": {
      "text/plain": [
       "count    384.000000\n",
       "mean       0.009117\n",
       "std        0.037081\n",
       "min       -0.134216\n",
       "25%       -0.002267\n",
       "50%        0.008843\n",
       "75%        0.026563\n",
       "max        0.095140\n",
       "Name: annual_log_return, dtype: float64"
      ]
     },
     "execution_count": 13,
     "metadata": {},
     "output_type": "execute_result"
    }
   ],
   "source": [
    "# Use describe with include='all' to get a description of all columns\n",
    "mkt_annual_ret.describe()"
   ]
  },
  {
   "cell_type": "code",
   "execution_count": 14,
   "metadata": {},
   "outputs": [
    {
     "data": {
      "text/plain": [
       "0.9265753920800265"
      ]
     },
     "execution_count": 14,
     "metadata": {},
     "output_type": "execute_result"
    }
   ],
   "source": [
    "# Calculate the 1-month lag autocorrelation of the annual market returns\n",
    "annual_autocorrelation = mkt_annual_ret.autocorr(lag=1)\n",
    "annual_autocorrelation"
   ]
  },
  {
   "cell_type": "code",
   "execution_count": 15,
   "metadata": {},
   "outputs": [
    {
     "data": {
      "text/plain": [
       "0.05036311652195588"
      ]
     },
     "execution_count": 15,
     "metadata": {},
     "output_type": "execute_result"
    }
   ],
   "source": [
    "monthly_autocorrelation = mkt_month_ret.autocorr(lag=1)\n",
    "monthly_autocorrelation"
   ]
  },
  {
   "cell_type": "markdown",
   "metadata": {},
   "source": [
    "# S&P 500 Monthly/Annual Return"
   ]
  },
  {
   "cell_type": "markdown",
   "metadata": {},
   "source": [
    "#### V1 - S&P500 PX_LAST from Bloomberg"
   ]
  },
  {
   "cell_type": "code",
   "execution_count": 21,
   "metadata": {},
   "outputs": [
    {
     "data": {
      "text/html": [
       "<div>\n",
       "<style scoped>\n",
       "    .dataframe tbody tr th:only-of-type {\n",
       "        vertical-align: middle;\n",
       "    }\n",
       "\n",
       "    .dataframe tbody tr th {\n",
       "        vertical-align: top;\n",
       "    }\n",
       "\n",
       "    .dataframe thead th {\n",
       "        text-align: right;\n",
       "    }\n",
       "</style>\n",
       "<table border=\"1\" class=\"dataframe\">\n",
       "  <thead>\n",
       "    <tr style=\"text-align: right;\">\n",
       "      <th></th>\n",
       "      <th>Dates</th>\n",
       "      <th>PX_LAST</th>\n",
       "      <th>CUR_MKT_CAP</th>\n",
       "      <th>IDX_EST_DVD_YLD</th>\n",
       "    </tr>\n",
       "  </thead>\n",
       "  <tbody>\n",
       "    <tr>\n",
       "      <th>0</th>\n",
       "      <td>1987-03-31</td>\n",
       "      <td>291.70</td>\n",
       "      <td>NaN</td>\n",
       "      <td>NaN</td>\n",
       "    </tr>\n",
       "    <tr>\n",
       "      <th>1</th>\n",
       "      <td>1987-04-30</td>\n",
       "      <td>288.36</td>\n",
       "      <td>NaN</td>\n",
       "      <td>NaN</td>\n",
       "    </tr>\n",
       "    <tr>\n",
       "      <th>2</th>\n",
       "      <td>1987-05-29</td>\n",
       "      <td>290.10</td>\n",
       "      <td>NaN</td>\n",
       "      <td>NaN</td>\n",
       "    </tr>\n",
       "    <tr>\n",
       "      <th>3</th>\n",
       "      <td>1987-06-30</td>\n",
       "      <td>304.00</td>\n",
       "      <td>NaN</td>\n",
       "      <td>NaN</td>\n",
       "    </tr>\n",
       "    <tr>\n",
       "      <th>4</th>\n",
       "      <td>1987-07-31</td>\n",
       "      <td>318.66</td>\n",
       "      <td>NaN</td>\n",
       "      <td>NaN</td>\n",
       "    </tr>\n",
       "    <tr>\n",
       "      <th>...</th>\n",
       "      <td>...</td>\n",
       "      <td>...</td>\n",
       "      <td>...</td>\n",
       "      <td>...</td>\n",
       "    </tr>\n",
       "    <tr>\n",
       "      <th>438</th>\n",
       "      <td>2023-09-29</td>\n",
       "      <td>4288.05</td>\n",
       "      <td>37458578.33</td>\n",
       "      <td>1.6363</td>\n",
       "    </tr>\n",
       "    <tr>\n",
       "      <th>439</th>\n",
       "      <td>2023-10-31</td>\n",
       "      <td>4193.80</td>\n",
       "      <td>36574969.86</td>\n",
       "      <td>1.6759</td>\n",
       "    </tr>\n",
       "    <tr>\n",
       "      <th>440</th>\n",
       "      <td>2023-11-30</td>\n",
       "      <td>4567.80</td>\n",
       "      <td>39844220.66</td>\n",
       "      <td>1.5418</td>\n",
       "    </tr>\n",
       "    <tr>\n",
       "      <th>441</th>\n",
       "      <td>2023-12-29</td>\n",
       "      <td>4769.83</td>\n",
       "      <td>41737596.22</td>\n",
       "      <td>1.4784</td>\n",
       "    </tr>\n",
       "    <tr>\n",
       "      <th>442</th>\n",
       "      <td>2024-01-31</td>\n",
       "      <td>4845.65</td>\n",
       "      <td>42324545.51</td>\n",
       "      <td>1.4525</td>\n",
       "    </tr>\n",
       "  </tbody>\n",
       "</table>\n",
       "<p>443 rows × 4 columns</p>\n",
       "</div>"
      ],
      "text/plain": [
       "         Dates  PX_LAST  CUR_MKT_CAP  IDX_EST_DVD_YLD\n",
       "0   1987-03-31   291.70          NaN              NaN\n",
       "1   1987-04-30   288.36          NaN              NaN\n",
       "2   1987-05-29   290.10          NaN              NaN\n",
       "3   1987-06-30   304.00          NaN              NaN\n",
       "4   1987-07-31   318.66          NaN              NaN\n",
       "..         ...      ...          ...              ...\n",
       "438 2023-09-29  4288.05  37458578.33           1.6363\n",
       "439 2023-10-31  4193.80  36574969.86           1.6759\n",
       "440 2023-11-30  4567.80  39844220.66           1.5418\n",
       "441 2023-12-29  4769.83  41737596.22           1.4784\n",
       "442 2024-01-31  4845.65  42324545.51           1.4525\n",
       "\n",
       "[443 rows x 4 columns]"
      ]
     },
     "execution_count": 21,
     "metadata": {},
     "output_type": "execute_result"
    }
   ],
   "source": [
    "import pandas as pd\n",
    "df = pd.read_excel('ds_01.xlsx', sheet_name = 'SPX_Index')\n",
    "df"
   ]
  },
  {
   "cell_type": "code",
   "execution_count": 35,
   "metadata": {},
   "outputs": [
    {
     "name": "stderr",
     "output_type": "stream",
     "text": [
      "/var/folders/5p/s4my2nv1159g3mwckrx1vb500000gn/T/ipykernel_28526/1787979406.py:8: SettingWithCopyWarning: \n",
      "A value is trying to be set on a copy of a slice from a DataFrame.\n",
      "Try using .loc[row_indexer,col_indexer] = value instead\n",
      "\n",
      "See the caveats in the documentation: https://pandas.pydata.org/pandas-docs/stable/user_guide/indexing.html#returning-a-view-versus-a-copy\n",
      "  filtered_df['Log_Monthly_Returns'] = np.log(filtered_df['PX_LAST'] / filtered_df['PX_LAST'].shift(1))\n"
     ]
    },
    {
     "data": {
      "text/html": [
       "<div>\n",
       "<style scoped>\n",
       "    .dataframe tbody tr th:only-of-type {\n",
       "        vertical-align: middle;\n",
       "    }\n",
       "\n",
       "    .dataframe tbody tr th {\n",
       "        vertical-align: top;\n",
       "    }\n",
       "\n",
       "    .dataframe thead th {\n",
       "        text-align: right;\n",
       "    }\n",
       "</style>\n",
       "<table border=\"1\" class=\"dataframe\">\n",
       "  <thead>\n",
       "    <tr style=\"text-align: right;\">\n",
       "      <th></th>\n",
       "      <th>Log_Monthly_Returns</th>\n",
       "    </tr>\n",
       "  </thead>\n",
       "  <tbody>\n",
       "    <tr>\n",
       "      <th>count</th>\n",
       "      <td>383.000000</td>\n",
       "    </tr>\n",
       "    <tr>\n",
       "      <th>mean</th>\n",
       "      <td>0.006609</td>\n",
       "    </tr>\n",
       "    <tr>\n",
       "      <th>std</th>\n",
       "      <td>0.040855</td>\n",
       "    </tr>\n",
       "    <tr>\n",
       "      <th>min</th>\n",
       "      <td>-0.185636</td>\n",
       "    </tr>\n",
       "    <tr>\n",
       "      <th>25%</th>\n",
       "      <td>-0.017331</td>\n",
       "    </tr>\n",
       "    <tr>\n",
       "      <th>50%</th>\n",
       "      <td>0.011259</td>\n",
       "    </tr>\n",
       "    <tr>\n",
       "      <th>75%</th>\n",
       "      <td>0.032064</td>\n",
       "    </tr>\n",
       "    <tr>\n",
       "      <th>max</th>\n",
       "      <td>0.105790</td>\n",
       "    </tr>\n",
       "  </tbody>\n",
       "</table>\n",
       "</div>"
      ],
      "text/plain": [
       "       Log_Monthly_Returns\n",
       "count           383.000000\n",
       "mean              0.006609\n",
       "std               0.040855\n",
       "min              -0.185636\n",
       "25%              -0.017331\n",
       "50%               0.011259\n",
       "75%               0.032064\n",
       "max               0.105790"
      ]
     },
     "execution_count": 35,
     "metadata": {},
     "output_type": "execute_result"
    }
   ],
   "source": [
    "import numpy as np\n",
    "\n",
    "# Filter the DataFrame for the specified date range\n",
    "date_mask = (df['Dates'] >= '1988-01-01') & (df['Dates'] <= '2019-12-31')\n",
    "filtered_df = df.loc[date_mask]\n",
    "\n",
    "# Calculate log monthly returns based on the PX_LAST column\n",
    "filtered_df['Log_Monthly_Returns'] = np.log(filtered_df['PX_LAST'] / filtered_df['PX_LAST'].shift(1))\n",
    "sp500_monthly_ret = filtered_df[['Dates','Log_Monthly_Returns']]\n",
    "sp500_monthly_ret.set_index('Dates', inplace = True)\n",
    "sp500_monthly_ret.describe()"
   ]
  },
  {
   "cell_type": "code",
   "execution_count": 36,
   "metadata": {},
   "outputs": [
    {
     "name": "stderr",
     "output_type": "stream",
     "text": [
      "/var/folders/5p/s4my2nv1159g3mwckrx1vb500000gn/T/ipykernel_28526/4005304222.py:2: SettingWithCopyWarning: \n",
      "A value is trying to be set on a copy of a slice from a DataFrame.\n",
      "Try using .loc[row_indexer,col_indexer] = value instead\n",
      "\n",
      "See the caveats in the documentation: https://pandas.pydata.org/pandas-docs/stable/user_guide/indexing.html#returning-a-view-versus-a-copy\n",
      "  data['Dates'] = pd.to_datetime(data['Dates'])\n"
     ]
    },
    {
     "data": {
      "text/plain": [
       "count    384.000000\n",
       "mean       0.074794\n",
       "std        0.154481\n",
       "min       -0.593415\n",
       "25%        0.021040\n",
       "50%        0.100132\n",
       "75%        0.165937\n",
       "max        0.407146\n",
       "Name: annual_log_return, dtype: float64"
      ]
     },
     "execution_count": 36,
     "metadata": {},
     "output_type": "execute_result"
    }
   ],
   "source": [
    "def calc_annual_return(data):\n",
    "    data['Dates'] = pd.to_datetime(data['Dates'])\n",
    "\n",
    "    # Set the 'date' as the index\n",
    "    data.set_index('Dates', inplace=True)\n",
    "\n",
    "    # Group by year and month, and select the last day\n",
    "    df_mkt_month_end = data.resample('M').last()\n",
    "\n",
    "    # Calculate the rolling 12-month sum of log returns\n",
    "    df_mkt_month_end['annual_log_return'] = df_mkt_month_end['Log_Monthly_Returns'].rolling(window=12).sum()\n",
    "\n",
    "    # Display the total number of observations and the first few rows to verify the rolling calculation\n",
    "    mkt_annual_ret = df_mkt_month_end['annual_log_return'].fillna(0)\n",
    "\n",
    "    return mkt_annual_ret\n",
    "\n",
    "# Calculate the log annual return\n",
    "annual_log_return = calc_annual_return(filtered_df)\n",
    "annual_log_return.describe()"
   ]
  },
  {
   "cell_type": "markdown",
   "metadata": {},
   "source": [
    "#### V2 - S&P500 return from WRDS CRSP"
   ]
  },
  {
   "cell_type": "code",
   "execution_count": 1,
   "metadata": {},
   "outputs": [
    {
     "name": "stdout",
     "output_type": "stream",
     "text": [
      "WRDS recommends setting up a .pgpass file.\n",
      "Created .pgpass file successfully.\n",
      "You can create this file yourself at any time with the create_pgpass_file() function.\n",
      "Loading library list...\n",
      "Done\n"
     ]
    },
    {
     "data": {
      "text/html": [
       "<div>\n",
       "<style scoped>\n",
       "    .dataframe tbody tr th:only-of-type {\n",
       "        vertical-align: middle;\n",
       "    }\n",
       "\n",
       "    .dataframe tbody tr th {\n",
       "        vertical-align: top;\n",
       "    }\n",
       "\n",
       "    .dataframe thead th {\n",
       "        text-align: right;\n",
       "    }\n",
       "</style>\n",
       "<table border=\"1\" class=\"dataframe\">\n",
       "  <thead>\n",
       "    <tr style=\"text-align: right;\">\n",
       "      <th></th>\n",
       "      <th>caldt</th>\n",
       "      <th>sprtrn</th>\n",
       "      <th>log_return</th>\n",
       "    </tr>\n",
       "  </thead>\n",
       "  <tbody>\n",
       "    <tr>\n",
       "      <th>0</th>\n",
       "      <td>1988-01-29</td>\n",
       "      <td>0.040432</td>\n",
       "      <td>0.039636</td>\n",
       "    </tr>\n",
       "    <tr>\n",
       "      <th>1</th>\n",
       "      <td>1988-02-29</td>\n",
       "      <td>0.041817</td>\n",
       "      <td>0.040966</td>\n",
       "    </tr>\n",
       "    <tr>\n",
       "      <th>2</th>\n",
       "      <td>1988-03-31</td>\n",
       "      <td>-0.033343</td>\n",
       "      <td>-0.033912</td>\n",
       "    </tr>\n",
       "    <tr>\n",
       "      <th>3</th>\n",
       "      <td>1988-04-29</td>\n",
       "      <td>0.009425</td>\n",
       "      <td>0.009381</td>\n",
       "    </tr>\n",
       "    <tr>\n",
       "      <th>4</th>\n",
       "      <td>1988-05-31</td>\n",
       "      <td>0.003176</td>\n",
       "      <td>0.003171</td>\n",
       "    </tr>\n",
       "    <tr>\n",
       "      <th>...</th>\n",
       "      <td>...</td>\n",
       "      <td>...</td>\n",
       "      <td>...</td>\n",
       "    </tr>\n",
       "    <tr>\n",
       "      <th>379</th>\n",
       "      <td>2019-08-30</td>\n",
       "      <td>-0.018092</td>\n",
       "      <td>-0.018258</td>\n",
       "    </tr>\n",
       "    <tr>\n",
       "      <th>380</th>\n",
       "      <td>2019-09-30</td>\n",
       "      <td>0.017181</td>\n",
       "      <td>0.017035</td>\n",
       "    </tr>\n",
       "    <tr>\n",
       "      <th>381</th>\n",
       "      <td>2019-10-31</td>\n",
       "      <td>0.020432</td>\n",
       "      <td>0.020226</td>\n",
       "    </tr>\n",
       "    <tr>\n",
       "      <th>382</th>\n",
       "      <td>2019-11-29</td>\n",
       "      <td>0.034047</td>\n",
       "      <td>0.033480</td>\n",
       "    </tr>\n",
       "    <tr>\n",
       "      <th>383</th>\n",
       "      <td>2019-12-31</td>\n",
       "      <td>0.028590</td>\n",
       "      <td>0.028189</td>\n",
       "    </tr>\n",
       "  </tbody>\n",
       "</table>\n",
       "<p>384 rows × 3 columns</p>\n",
       "</div>"
      ],
      "text/plain": [
       "         caldt    sprtrn  log_return\n",
       "0   1988-01-29  0.040432    0.039636\n",
       "1   1988-02-29  0.041817    0.040966\n",
       "2   1988-03-31 -0.033343   -0.033912\n",
       "3   1988-04-29  0.009425    0.009381\n",
       "4   1988-05-31  0.003176    0.003171\n",
       "..         ...       ...         ...\n",
       "379 2019-08-30 -0.018092   -0.018258\n",
       "380 2019-09-30  0.017181    0.017035\n",
       "381 2019-10-31  0.020432    0.020226\n",
       "382 2019-11-29  0.034047    0.033480\n",
       "383 2019-12-31  0.028590    0.028189\n",
       "\n",
       "[384 rows x 3 columns]"
      ]
     },
     "execution_count": 1,
     "metadata": {},
     "output_type": "execute_result"
    }
   ],
   "source": [
    "import load_sp_return\n",
    "sp_return = load_sp_return.pull_CRSP_sp_return_monthly('charels_song')\n",
    "sp_return"
   ]
  },
  {
   "cell_type": "code",
   "execution_count": 8,
   "metadata": {},
   "outputs": [
    {
     "name": "stdout",
     "output_type": "stream",
     "text": [
      "WRDS recommends setting up a .pgpass file.\n",
      "Created .pgpass file successfully.\n",
      "You can create this file yourself at any time with the create_pgpass_file() function.\n",
      "Loading library list...\n",
      "Done\n"
     ]
    },
    {
     "data": {
      "text/plain": [
       "<Axes: xlabel='caldt'>"
      ]
     },
     "execution_count": 8,
     "metadata": {},
     "output_type": "execute_result"
    },
    {
     "data": {
      "image/png": "[encoded data removed]",
      "text/plain": [
       "<Figure size 640x480 with 1 Axes>"
      ]
     },
     "metadata": {},
     "output_type": "display_data"
    }
   ],
   "source": [
    "sp_return = load_sp_return.pull_CRSP_sp_return_monthly('charels_song')\n",
    "sp500_monthly_ret = load_sp_return.calc_monthly_return(sp_return)\n",
    "sp500_monthly_ret.plot()"
   ]
  },
  {
   "cell_type": "code",
   "execution_count": 9,
   "metadata": {},
   "outputs": [
    {
     "data": {
      "text/plain": [
       "count    384.000000\n",
       "mean       0.006695\n",
       "std        0.040837\n",
       "min       -0.185637\n",
       "25%       -0.017241\n",
       "50%        0.011362\n",
       "75%        0.032325\n",
       "max        0.105790\n",
       "Name: log_return, dtype: float64"
      ]
     },
     "execution_count": 9,
     "metadata": {},
     "output_type": "execute_result"
    }
   ],
   "source": [
    "sp500_monthly_ret.describe()"
   ]
  },
  {
   "cell_type": "code",
   "execution_count": 6,
   "metadata": {},
   "outputs": [
    {
     "name": "stdout",
     "output_type": "stream",
     "text": [
      "WRDS recommends setting up a .pgpass file.\n",
      "Created .pgpass file successfully.\n",
      "You can create this file yourself at any time with the create_pgpass_file() function.\n",
      "Loading library list...\n",
      "Done\n"
     ]
    },
    {
     "data": {
      "text/plain": [
       "<Axes: xlabel='caldt'>"
      ]
     },
     "execution_count": 6,
     "metadata": {},
     "output_type": "execute_result"
    },
    {
     "data": {
      "image/png": "[encoded data removed]",
      "text/plain": [
       "<Figure size 640x480 with 1 Axes>"
      ]
     },
     "metadata": {},
     "output_type": "display_data"
    }
   ],
   "source": [
    "sp_return = load_sp_return.pull_CRSP_sp_return_monthly('charels_song')\n",
    "sp500_annual_ret = load_sp_return.calc_annual_return(sp_return)\n",
    "sp500_annual_ret.plot()"
   ]
  },
  {
   "cell_type": "code",
   "execution_count": 10,
   "metadata": {},
   "outputs": [
    {
     "data": {
      "text/plain": [
       "count    384.000000\n",
       "mean       0.075098\n",
       "std        0.154448\n",
       "min       -0.593414\n",
       "25%        0.022017\n",
       "50%        0.100524\n",
       "75%        0.165931\n",
       "max        0.407147\n",
       "Name: annual_log_return, dtype: float64"
      ]
     },
     "execution_count": 10,
     "metadata": {},
     "output_type": "execute_result"
    }
   ],
   "source": [
    "sp500_annual_ret.describe()"
   ]
  },
  {
   "cell_type": "markdown",
   "metadata": {},
   "source": [
    "# Market Duration"
   ]
  },
  {
   "cell_type": "code",
   "execution_count": 1,
   "metadata": {},
   "outputs": [
    {
     "name": "stdout",
     "output_type": "stream",
     "text": [
      "Loading library list...\n",
      "Done\n"
     ]
    }
   ],
   "source": [
    "import load_compustat\n",
    "compustat = load_compustat.pull_CRSP_stock_ciz('charles_song')"
   ]
  },
  {
   "cell_type": "code",
   "execution_count": 2,
   "metadata": {},
   "outputs": [
    {
     "data": {
      "text/html": [
       "<div>\n",
       "<style scoped>\n",
       "    .dataframe tbody tr th:only-of-type {\n",
       "        vertical-align: middle;\n",
       "    }\n",
       "\n",
       "    .dataframe tbody tr th {\n",
       "        vertical-align: top;\n",
       "    }\n",
       "\n",
       "    .dataframe thead th {\n",
       "        text-align: right;\n",
       "    }\n",
       "</style>\n",
       "<table border=\"1\" class=\"dataframe\">\n",
       "  <thead>\n",
       "    <tr style=\"text-align: right;\">\n",
       "      <th></th>\n",
       "      <th>mthcaldt</th>\n",
       "      <th>permno</th>\n",
       "      <th>ticker</th>\n",
       "      <th>shrout</th>\n",
       "      <th>mthprc</th>\n",
       "    </tr>\n",
       "  </thead>\n",
       "  <tbody>\n",
       "    <tr>\n",
       "      <th>0</th>\n",
       "      <td>1988-01-29</td>\n",
       "      <td>10001</td>\n",
       "      <td>GFGC</td>\n",
       "      <td>992.0</td>\n",
       "      <td>6.2500</td>\n",
       "    </tr>\n",
       "    <tr>\n",
       "      <th>1</th>\n",
       "      <td>1988-01-29</td>\n",
       "      <td>10002</td>\n",
       "      <td>MBNC</td>\n",
       "      <td>1175.0</td>\n",
       "      <td>10.3750</td>\n",
       "    </tr>\n",
       "    <tr>\n",
       "      <th>2</th>\n",
       "      <td>1988-01-29</td>\n",
       "      <td>10003</td>\n",
       "      <td>GCBK</td>\n",
       "      <td>2194.0</td>\n",
       "      <td>18.7500</td>\n",
       "    </tr>\n",
       "    <tr>\n",
       "      <th>3</th>\n",
       "      <td>1988-01-29</td>\n",
       "      <td>10005</td>\n",
       "      <td>WERC</td>\n",
       "      <td>8376.0</td>\n",
       "      <td>0.1563</td>\n",
       "    </tr>\n",
       "    <tr>\n",
       "      <th>4</th>\n",
       "      <td>1988-01-29</td>\n",
       "      <td>10007</td>\n",
       "      <td>None</td>\n",
       "      <td>2064.0</td>\n",
       "      <td>NaN</td>\n",
       "    </tr>\n",
       "    <tr>\n",
       "      <th>...</th>\n",
       "      <td>...</td>\n",
       "      <td>...</td>\n",
       "      <td>...</td>\n",
       "      <td>...</td>\n",
       "      <td>...</td>\n",
       "    </tr>\n",
       "    <tr>\n",
       "      <th>370592</th>\n",
       "      <td>2019-12-31</td>\n",
       "      <td>93426</td>\n",
       "      <td>VPG</td>\n",
       "      <td>12498.0</td>\n",
       "      <td>34.0000</td>\n",
       "    </tr>\n",
       "    <tr>\n",
       "      <th>370593</th>\n",
       "      <td>2019-12-31</td>\n",
       "      <td>93427</td>\n",
       "      <td>FN</td>\n",
       "      <td>37003.0</td>\n",
       "      <td>64.8400</td>\n",
       "    </tr>\n",
       "    <tr>\n",
       "      <th>370594</th>\n",
       "      <td>2019-12-31</td>\n",
       "      <td>93429</td>\n",
       "      <td>CBOE</td>\n",
       "      <td>110777.0</td>\n",
       "      <td>120.0000</td>\n",
       "    </tr>\n",
       "    <tr>\n",
       "      <th>370595</th>\n",
       "      <td>2019-12-31</td>\n",
       "      <td>93434</td>\n",
       "      <td>SANW</td>\n",
       "      <td>33305.0</td>\n",
       "      <td>2.1000</td>\n",
       "    </tr>\n",
       "    <tr>\n",
       "      <th>370596</th>\n",
       "      <td>2019-12-31</td>\n",
       "      <td>93436</td>\n",
       "      <td>TSLA</td>\n",
       "      <td>181062.0</td>\n",
       "      <td>418.3300</td>\n",
       "    </tr>\n",
       "  </tbody>\n",
       "</table>\n",
       "<p>2870597 rows × 5 columns</p>\n",
       "</div>"
      ],
      "text/plain": [
       "         mthcaldt  permno ticker    shrout    mthprc\n",
       "0      1988-01-29   10001   GFGC     992.0    6.2500\n",
       "1      1988-01-29   10002   MBNC    1175.0   10.3750\n",
       "2      1988-01-29   10003   GCBK    2194.0   18.7500\n",
       "3      1988-01-29   10005   WERC    8376.0    0.1563\n",
       "4      1988-01-29   10007   None    2064.0       NaN\n",
       "...           ...     ...    ...       ...       ...\n",
       "370592 2019-12-31   93426    VPG   12498.0   34.0000\n",
       "370593 2019-12-31   93427     FN   37003.0   64.8400\n",
       "370594 2019-12-31   93429   CBOE  110777.0  120.0000\n",
       "370595 2019-12-31   93434   SANW   33305.0    2.1000\n",
       "370596 2019-12-31   93436   TSLA  181062.0  418.3300\n",
       "\n",
       "[2870597 rows x 5 columns]"
      ]
     },
     "execution_count": 2,
     "metadata": {},
     "output_type": "execute_result"
    }
   ],
   "source": [
    "compustat.dropna()\n",
    "compustat"
   ]
  },
  {
   "cell_type": "code",
   "execution_count": 35,
   "metadata": {},
   "outputs": [
    {
     "name": "stdout",
     "output_type": "stream",
     "text": [
      "WRDS recommends setting up a .pgpass file.\n",
      "Created .pgpass file successfully.\n",
      "You can create this file yourself at any time with the create_pgpass_file() function.\n",
      "Loading library list...\n",
      "Done\n",
      "Loading library list...\n",
      "Done\n"
     ]
    }
   ],
   "source": [
    "import wrds\n",
    "\n",
    "# Connect to WRDS\n",
    "db = wrds.Connection()\n",
    "\n",
    "# Define the SQL query to obtain S&P 500 constituents' PERMNO and tickers\n",
    "# This query is hypothetical and may need adjustments based on the actual database schema\n",
    "sql_query = \"\"\"\n",
    "                        select a.*, b.date, b.ret\n",
    "                        from crsp.msp500list as a,\n",
    "                        crsp.msf as b\n",
    "                        where a.permno=b.permno\n",
    "                        and a.start>= '06/15/1983'\n",
    "                        and a.ending<='12/31/2019'\n",
    "                        and b.date >= a.start and b.date<= a.ending\n",
    "                        order by date;\n",
    "                        \"\"\"\n",
    "\n",
    "db = wrds.Connection(wrds_username='charles_song')\n",
    "sp500 = db.raw_sql(sql_query, date_cols=['start', 'ending', 'date'])\n",
    "db.close()"
   ]
  },
  {
   "cell_type": "code",
   "execution_count": 37,
   "metadata": {},
   "outputs": [
    {
     "data": {
      "text/plain": [
       "509"
      ]
     },
     "execution_count": 37,
     "metadata": {},
     "output_type": "execute_result"
    }
   ],
   "source": [
    "len(sp500['permno'].unique())"
   ]
  },
  {
   "cell_type": "code",
   "execution_count": 39,
   "metadata": {},
   "outputs": [
    {
     "data": {
      "text/html": [
       "<div>\n",
       "<style scoped>\n",
       "    .dataframe tbody tr th:only-of-type {\n",
       "        vertical-align: middle;\n",
       "    }\n",
       "\n",
       "    .dataframe tbody tr th {\n",
       "        vertical-align: top;\n",
       "    }\n",
       "\n",
       "    .dataframe thead th {\n",
       "        text-align: right;\n",
       "    }\n",
       "</style>\n",
       "<table border=\"1\" class=\"dataframe\">\n",
       "  <thead>\n",
       "    <tr style=\"text-align: right;\">\n",
       "      <th></th>\n",
       "      <th>permno</th>\n",
       "      <th>start</th>\n",
       "      <th>ending</th>\n",
       "      <th>date</th>\n",
       "      <th>ret</th>\n",
       "    </tr>\n",
       "  </thead>\n",
       "  <tbody>\n",
       "    <tr>\n",
       "      <th>0</th>\n",
       "      <td>62834</td>\n",
       "      <td>1983-07-07</td>\n",
       "      <td>2006-06-05</td>\n",
       "      <td>1983-07-29</td>\n",
       "      <td>-0.003115</td>\n",
       "    </tr>\n",
       "    <tr>\n",
       "      <th>1</th>\n",
       "      <td>62834</td>\n",
       "      <td>1983-07-07</td>\n",
       "      <td>2006-06-05</td>\n",
       "      <td>1983-08-31</td>\n",
       "      <td>-0.012500</td>\n",
       "    </tr>\n",
       "    <tr>\n",
       "      <th>2</th>\n",
       "      <td>29962</td>\n",
       "      <td>1983-08-11</td>\n",
       "      <td>1988-04-13</td>\n",
       "      <td>1983-08-31</td>\n",
       "      <td>-0.104938</td>\n",
       "    </tr>\n",
       "    <tr>\n",
       "      <th>3</th>\n",
       "      <td>29962</td>\n",
       "      <td>1983-08-11</td>\n",
       "      <td>1988-04-13</td>\n",
       "      <td>1983-09-30</td>\n",
       "      <td>0.156414</td>\n",
       "    </tr>\n",
       "    <tr>\n",
       "      <th>4</th>\n",
       "      <td>62834</td>\n",
       "      <td>1983-07-07</td>\n",
       "      <td>2006-06-05</td>\n",
       "      <td>1983-09-30</td>\n",
       "      <td>0.076835</td>\n",
       "    </tr>\n",
       "    <tr>\n",
       "      <th>...</th>\n",
       "      <td>...</td>\n",
       "      <td>...</td>\n",
       "      <td>...</td>\n",
       "      <td>...</td>\n",
       "      <td>...</td>\n",
       "    </tr>\n",
       "    <tr>\n",
       "      <th>53796</th>\n",
       "      <td>91063</td>\n",
       "      <td>2006-01-03</td>\n",
       "      <td>2019-12-04</td>\n",
       "      <td>2019-11-29</td>\n",
       "      <td>0.116419</td>\n",
       "    </tr>\n",
       "    <tr>\n",
       "      <th>53797</th>\n",
       "      <td>85593</td>\n",
       "      <td>2014-07-01</td>\n",
       "      <td>2019-12-20</td>\n",
       "      <td>2019-11-29</td>\n",
       "      <td>0.072734</td>\n",
       "    </tr>\n",
       "    <tr>\n",
       "      <th>53798</th>\n",
       "      <td>13168</td>\n",
       "      <td>2011-12-21</td>\n",
       "      <td>2019-12-20</td>\n",
       "      <td>2019-11-29</td>\n",
       "      <td>-0.210396</td>\n",
       "    </tr>\n",
       "    <tr>\n",
       "      <th>53799</th>\n",
       "      <td>80399</td>\n",
       "      <td>2013-05-09</td>\n",
       "      <td>2019-12-20</td>\n",
       "      <td>2019-11-29</td>\n",
       "      <td>0.006545</td>\n",
       "    </tr>\n",
       "    <tr>\n",
       "      <th>53800</th>\n",
       "      <td>68144</td>\n",
       "      <td>1988-05-05</td>\n",
       "      <td>2019-12-06</td>\n",
       "      <td>2019-11-29</td>\n",
       "      <td>0.044776</td>\n",
       "    </tr>\n",
       "  </tbody>\n",
       "</table>\n",
       "<p>53801 rows × 5 columns</p>\n",
       "</div>"
      ],
      "text/plain": [
       "       permno      start     ending       date       ret\n",
       "0       62834 1983-07-07 2006-06-05 1983-07-29 -0.003115\n",
       "1       62834 1983-07-07 2006-06-05 1983-08-31 -0.012500\n",
       "2       29962 1983-08-11 1988-04-13 1983-08-31 -0.104938\n",
       "3       29962 1983-08-11 1988-04-13 1983-09-30  0.156414\n",
       "4       62834 1983-07-07 2006-06-05 1983-09-30  0.076835\n",
       "...       ...        ...        ...        ...       ...\n",
       "53796   91063 2006-01-03 2019-12-04 2019-11-29  0.116419\n",
       "53797   85593 2014-07-01 2019-12-20 2019-11-29  0.072734\n",
       "53798   13168 2011-12-21 2019-12-20 2019-11-29 -0.210396\n",
       "53799   80399 2013-05-09 2019-12-20 2019-11-29  0.006545\n",
       "53800   68144 1988-05-05 2019-12-06 2019-11-29  0.044776\n",
       "\n",
       "[53801 rows x 5 columns]"
      ]
     },
     "execution_count": 39,
     "metadata": {},
     "output_type": "execute_result"
    }
   ],
   "source": [
    "sp500"
   ]
  },
  {
   "cell_type": "code",
   "execution_count": 46,
   "metadata": {},
   "outputs": [],
   "source": [
    "import pandas as pd\n",
    "sp500_final_df = pd.merge(sp500, compustat, on = ['permno'])\n",
    "sp500_final_df.drop(['start','ending','date','ret'], axis = 1, inplace = True)\n",
    "sp500_final_df_truncate = sp500_final_df.head(50000)\n",
    "sp500_final_df_truncate.to_csv('sp500_truncate.csv')"
   ]
  },
  {
   "cell_type": "code",
   "execution_count": null,
   "metadata": {},
   "outputs": [],
   "source": []
  }
 ],
 "metadata": {
  "kernelspec": {
   "display_name": "finm",
   "language": "python",
   "name": "python3"
  },
  "language_info": {
   "codemirror_mode": {
    "name": "ipython",
    "version": 3
   },
   "file_extension": ".py",
   "mimetype": "text/x-python",
   "name": "python",
   "nbconvert_exporter": "python",
   "pygments_lexer": "ipython3",
   "version": "3.12.1"
  }
 },
 "nbformat": 4,
 "nbformat_minor": 2
}
